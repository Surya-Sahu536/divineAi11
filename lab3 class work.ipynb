{
 "cells": [
  {
   "cell_type": "code",
   "execution_count": 10,
   "metadata": {},
   "outputs": [
    {
     "name": "stdout",
     "output_type": "stream",
     "text": [
      "{1: 'delhi', 2: 'pune', 7: 'dhoni', 10: 'kohli', 100: 'century', 200: 'double'}\n"
     ]
    }
   ],
   "source": [
    "dict1={1:'delhi' ,2:'pune'}\n",
    "dict2={7:'dhoni' ,10:'kohli'}\n",
    "dict3={100:'century' ,200:'double'}\n",
    "dict1.update(dict2)\n",
    "dict1.update(dict3)\n",
    "print(dict1)"
   ]
  },
  {
   "cell_type": "code",
   "execution_count": 16,
   "metadata": {},
   "outputs": [
    {
     "name": "stdout",
     "output_type": "stream",
     "text": [
      "name: dr, addr: gjkb, street: hg, state: odisha\n"
     ]
    }
   ],
   "source": [
    "dict={'name': 'dr','addr': 'gjkb','street': 'hg','state': 'odisha'}\n",
    "print (\"name: {}, addr: {}, street: {}, state: {}\".format(dict['name'], dict['addr'], dict['street'], dict['state']))"
   ]
  },
  {
   "cell_type": "code",
   "execution_count": null,
   "metadata": {},
   "outputs": [],
   "source": []
  },
  {
   "cell_type": "code",
   "execution_count": 25,
   "metadata": {},
   "outputs": [
    {
     "name": "stdout",
     "output_type": "stream",
     "text": [
      "t\n",
      "yy\n",
      "u\n",
      "ii\n",
      "u\n",
      "ii\n"
     ]
    }
   ],
   "source": [
    "dic={}\n",
    "for i in range(2):\n",
    "    k=input()\n",
    "    v=input()\n",
    "    dic[k]=v\n",
    "chk=input()\n",
    "for i in dic:\n",
    "    if i==chk:\n",
    "        print(dic[i])"
   ]
  },
  {
   "cell_type": "code",
   "execution_count": 29,
   "metadata": {},
   "outputs": [
    {
     "name": "stdout",
     "output_type": "stream",
     "text": [
      "[('wt', 82), ('dsa', 88), ('os', 90), ('c', 97)]\n"
     ]
    }
   ],
   "source": [
    "tpl=[('dsa', 88), ('os', 90), ('c', 97), ('wt', 82)]\n",
    "tpl.sort(key = lambda x: x[1])\n",
    "print(tpl)"
   ]
  },
  {
   "cell_type": "code",
   "execution_count": 31,
   "metadata": {},
   "outputs": [
    {
     "name": "stdout",
     "output_type": "stream",
     "text": [
      "returning from elif\n",
      "returning from if\n",
      "no condtn\n"
     ]
    }
   ],
   "source": [
    "def ch(a,b):\n",
    "    if(a==1):\n",
    "        print(\"returning from if\")\n",
    "    elif(b==1):\n",
    "        print(\"returning from elif\")\n",
    "    else:\n",
    "        print(\"no condtn\")\n",
    "ch(3,1)\n",
    "ch(1,4)\n",
    "ch(5,7)\n",
    "    "
   ]
  },
  {
   "cell_type": "code",
   "execution_count": 41,
   "metadata": {},
   "outputs": [
    {
     "name": "stdout",
     "output_type": "stream",
     "text": [
      "66.0\n"
     ]
    }
   ],
   "source": [
    "def phyavg(dict):\n",
    "    sum=0\n",
    "    c=0\n",
    "    for a in dict.values():\n",
    "        sum+=a['Mark']['phy']\n",
    "        c+=1\n",
    "    avg=sum/c\n",
    "    print(avg)\n",
    "dict={1:{'name':'Ram','Mark':{'phy':56,'chem':78}},2:{'name':'Hari','Mark':{'phy':76,'chem':88}}} \n",
    "phyavg(dict)"
   ]
  }
 ],
 "metadata": {
  "kernelspec": {
   "display_name": "Python 3",
   "language": "python",
   "name": "python3"
  },
  "language_info": {
   "codemirror_mode": {
    "name": "ipython",
    "version": 3
   },
   "file_extension": ".py",
   "mimetype": "text/x-python",
   "name": "python",
   "nbconvert_exporter": "python",
   "pygments_lexer": "ipython3",
   "version": "3.8.3"
  }
 },
 "nbformat": 4,
 "nbformat_minor": 4
}
