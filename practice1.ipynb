{
 "cells": [
  {
   "cell_type": "code",
   "execution_count": 5,
   "metadata": {},
   "outputs": [
    {
     "name": "stdout",
     "output_type": "stream",
     "text": [
      "enter in kilo meters4\n",
      "400.0\n"
     ]
    }
   ],
   "source": [
    "km=float(input(\"enter in kilo meters\"))\n",
    "mtrs=km*100\n",
    "print(mtrs)"
   ]
  },
  {
   "cell_type": "code",
   "execution_count": 9,
   "metadata": {},
   "outputs": [
    {
     "name": "stdout",
     "output_type": "stream",
     "text": [
      "0\n",
      "0\n"
     ]
    }
   ],
   "source": [
    "num=int(input())\n",
    "print(\"negative\") if num<0 else print(\"0\") if num==0 else print(\"positive\")"
   ]
  },
  {
   "cell_type": "markdown",
   "metadata": {},
   "source": [
    "yr=int(input(\"year \"))\n",
    "if(yr%100)!=0:\n",
    "    if(yr%4)==0:\n",
    "         print(\"leap\")\n",
    "    else:\n",
    "         print(\"not leap\")\n",
    "else:\n",
    "    if(yr%400)==0:\n",
    "        print(\"leap\")\n",
    "    else:\n",
    "        print(\"not leap\")\n",
    "        "
   ]
  },
  {
   "cell_type": "code",
   "execution_count": 21,
   "metadata": {},
   "outputs": [
    {
     "name": "stdout",
     "output_type": "stream",
     "text": [
      "4\n",
      "24\n"
     ]
    }
   ],
   "source": [
    "n=int(input())\n",
    "fact=1\n",
    "for i in range(1,n+1):\n",
    "    fact*=i\n",
    "print(fact)"
   ]
  },
  {
   "cell_type": "code",
   "execution_count": 27,
   "metadata": {},
   "outputs": [
    {
     "name": "stdout",
     "output_type": "stream",
     "text": [
      "7\n",
      "prime\n"
     ]
    }
   ],
   "source": [
    "num=int(input())\n",
    "mark =0\n",
    "for i in range(2,num):\n",
    "    if(num%i)==0:\n",
    "        print(\"not prime no\")\n",
    "        mark=1\n",
    "        break\n",
    "if(mark!=1):\n",
    "    print(\"prime\")"
   ]
  }
 ],
 "metadata": {
  "kernelspec": {
   "display_name": "Python 3",
   "language": "python",
   "name": "python3"
  },
  "language_info": {
   "codemirror_mode": {
    "name": "ipython",
    "version": 3
   },
   "file_extension": ".py",
   "mimetype": "text/x-python",
   "name": "python",
   "nbconvert_exporter": "python",
   "pygments_lexer": "ipython3",
   "version": "3.8.3"
  }
 },
 "nbformat": 4,
 "nbformat_minor": 4
}
