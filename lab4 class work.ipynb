{
 "cells": [
  {
   "cell_type": "code",
   "execution_count": 1,
   "metadata": {},
   "outputs": [
    {
     "name": "stdout",
     "output_type": "stream",
     "text": [
      "16\n"
     ]
    }
   ],
   "source": [
    "def add(tpl):\n",
    "    sum=0\n",
    "    for a in tpl:\n",
    "        sum+=a\n",
    "    print(sum)\n",
    "tpl=(2,6,8)\n",
    "add(tpl)"
   ]
  },
  {
   "cell_type": "code",
   "execution_count": 2,
   "metadata": {},
   "outputs": [
    {
     "name": "stdout",
     "output_type": "stream",
     "text": [
      "[(56, 12), (24, 85), (63, 89), (90, 12)]\n",
      "Sorted by 1st element:  [(24, 85), (56, 12), (63, 89), (90, 12)]\n"
     ]
    }
   ],
   "source": [
    "l1=[56,24,63,90]\n",
    "l2=[12,85,89,12]\n",
    "l3=list(zip(l1,l2))\n",
    "print(l3)\n",
    "l3.sort(key = lambda x: x[0])\n",
    "print(\"Sorted by 1st element: \", l3)"
   ]
  },
  {
   "cell_type": "code",
   "execution_count": 4,
   "metadata": {},
   "outputs": [],
   "source": [
    "f= open (\"fileeg.txt\",'x')\n",
    "try:\n",
    "    f.write(\"ght\")\n",
    "except:\n",
    "    \n",
    "    f.close()"
   ]
  },
  {
   "cell_type": "code",
   "execution_count": 5,
   "metadata": {},
   "outputs": [
    {
     "name": "stdout",
     "output_type": "stream",
     "text": [
      " file is not writable\n"
     ]
    }
   ],
   "source": [
    "f = open(\"file2.txt\")\n",
    "try :\n",
    "    f.write(\" hellooo\")\n",
    "except:\n",
    "    print(\" file is not writable\")\n",
    "f.close()"
   ]
  },
  {
   "cell_type": "code",
   "execution_count": 6,
   "metadata": {},
   "outputs": [
    {
     "data": {
      "text/plain": [
       "{'Brand': ['Maruti',\n",
       "  'Hyundai',\n",
       "  'Tata',\n",
       "  'Mahindra',\n",
       "  'Maruti',\n",
       "  'Hyundai',\n",
       "  'Renault',\n",
       "  'Tata',\n",
       "  'Maruti'],\n",
       " 'Year': [2012, 2014, 2011, 2015, 2012, 2016, 2014, 2018, 2019],\n",
       " 'Kms Driven': [50000, 30000, 60000, 25000, 10000, 46000, 31000, 15000, 12000],\n",
       " 'City': ['Gurgaon',\n",
       "  'Delhi',\n",
       "  'Mumbai',\n",
       "  'Delhi',\n",
       "  'Mumbai',\n",
       "  'Delhi',\n",
       "  'Mumbai',\n",
       "  'Chennai',\n",
       "  'Ghaziabad'],\n",
       " 'Mileage': [28, 27, 25, 26, 28, 29, 24, 21, 24]}"
      ]
     },
     "metadata": {},
     "output_type": "display_data"
    }
   ],
   "source": [
    "df={'Brand' : ['Maruti', 'Hyundai', 'Tata', 'Mahindra', 'Maruti', 'Hyundai', 'Renault', 'Tata', 'Maruti'], 'Year' : [2012, 2014, 2011, 2015, 2012,\n",
    "2016, 2014, 2018, 2019], 'Kms Driven' : [50000, 30000, 60000,25000, 10000, 46000,31000, 15000, 12000], 'City' : ['Gurgaon', 'Delhi', 'Mumbai',\n",
    "'Delhi', 'Mumbai', 'Delhi','Mumbai','Chennai', 'Ghaziabad'], 'Mileage' : [28, 27, 25, 26, 28,29, 24, 21, 24]}\n",
    "display(df)"
   ]
  },
  {
   "cell_type": "code",
   "execution_count": 7,
   "metadata": {},
   "outputs": [
    {
     "ename": "AttributeError",
     "evalue": "'dict' object has no attribute 'loc'",
     "output_type": "error",
     "traceback": [
      "\u001b[1;31m---------------------------------------------------------------------------\u001b[0m",
      "\u001b[1;31mAttributeError\u001b[0m                            Traceback (most recent call last)",
      "\u001b[1;32m<ipython-input-7-1d410bee44ae>\u001b[0m in \u001b[0;36m<module>\u001b[1;34m\u001b[0m\n\u001b[1;32m----> 1\u001b[1;33m \u001b[0mdf\u001b[0m\u001b[1;33m.\u001b[0m\u001b[0mloc\u001b[0m\u001b[1;33m[\u001b[0m\u001b[1;33m(\u001b[0m\u001b[0mdf\u001b[0m\u001b[1;33m.\u001b[0m\u001b[0mBrand\u001b[0m \u001b[1;33m==\u001b[0m \u001b[1;34m'Maruti'\u001b[0m\u001b[1;33m)\u001b[0m \u001b[1;33m&\u001b[0m \u001b[1;33m(\u001b[0m\u001b[0mdf\u001b[0m\u001b[1;33m.\u001b[0m\u001b[0mMileage\u001b[0m \u001b[1;33m>\u001b[0m \u001b[1;36m25\u001b[0m\u001b[1;33m)\u001b[0m\u001b[1;33m]\u001b[0m\u001b[1;33m\u001b[0m\u001b[1;33m\u001b[0m\u001b[0m\n\u001b[0m",
      "\u001b[1;31mAttributeError\u001b[0m: 'dict' object has no attribute 'loc'"
     ]
    }
   ],
   "source": [
    "df.loc[(df.Brand == 'Maruti') & (df.Mileage > 25)]"
   ]
  }
 ],
 "metadata": {
  "kernelspec": {
   "display_name": "Python 3",
   "language": "python",
   "name": "python3"
  },
  "language_info": {
   "codemirror_mode": {
    "name": "ipython",
    "version": 3
   },
   "file_extension": ".py",
   "mimetype": "text/x-python",
   "name": "python",
   "nbconvert_exporter": "python",
   "pygments_lexer": "ipython3",
   "version": "3.8.3"
  }
 },
 "nbformat": 4,
 "nbformat_minor": 4
}
