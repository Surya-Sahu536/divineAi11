{
 "cells": [
  {
   "cell_type": "code",
   "execution_count": 2,
   "metadata": {},
   "outputs": [
    {
     "name": "stdout",
     "output_type": "stream",
     "text": [
      "It's pd.isna  :True\n"
     ]
    }
   ],
   "source": [
    "#Using Pandas Library\n",
    "import pandas as pd\n",
    "x = float(\"nan\")\n",
    "print(f\"It's pd.isna  :{pd.isna(x)}\")"
   ]
  },
  {
   "cell_type": "code",
   "execution_count": 3,
   "metadata": {},
   "outputs": [
    {
     "name": "stdout",
     "output_type": "stream",
     "text": [
      "It's np.isnan  : True\n"
     ]
    }
   ],
   "source": [
    "#Using Numpy Library\n",
    "import numpy as np\n",
    "x = float(\"nan\")\n",
    "print(f\"It's np.isnan  : {np.isnan(x)}\")"
   ]
  },
  {
   "cell_type": "code",
   "execution_count": 4,
   "metadata": {},
   "outputs": [
    {
     "name": "stdout",
     "output_type": "stream",
     "text": [
      "It's math.isnan : True\n"
     ]
    }
   ],
   "source": [
    "#Using math library\n",
    "import math\n",
    "x = float(\"nan\")\n",
    "print(f\"It's math.isnan : {math.isnan(x)}\")"
   ]
  },
  {
   "cell_type": "code",
   "execution_count": 5,
   "metadata": {},
   "outputs": [
    {
     "data": {
      "text/plain": [
       "True"
      ]
     },
     "execution_count": 5,
     "metadata": {},
     "output_type": "execute_result"
    }
   ],
   "source": [
    "#Comparing with itself\n",
    "def isNaN(num):\n",
    "    return num!= num\n",
    "x=float(\"nan\")\n",
    "isNaN(x)"
   ]
  },
  {
   "cell_type": "code",
   "execution_count": 6,
   "metadata": {},
   "outputs": [
    {
     "data": {
      "text/plain": [
       "True"
      ]
     },
     "execution_count": 6,
     "metadata": {},
     "output_type": "execute_result"
    }
   ],
   "source": [
    "#Checking the range\n",
    "def isNaN(num):\n",
    "    if float('-inf') < float(num) < float('inf'): # for setting variable from -infinity to infinity\n",
    "        return False \n",
    "    else:\n",
    "        return True\n",
    "    x=float(\"nan\")\n",
    "isNaN(x)"
   ]
  }
 ],
 "metadata": {
  "kernelspec": {
   "display_name": "Python 3",
   "language": "python",
   "name": "python3"
  },
  "language_info": {
   "codemirror_mode": {
    "name": "ipython",
    "version": 3
   },
   "file_extension": ".py",
   "mimetype": "text/x-python",
   "name": "python",
   "nbconvert_exporter": "python",
   "pygments_lexer": "ipython3",
   "version": "3.8.3"
  }
 },
 "nbformat": 4,
 "nbformat_minor": 2
}
